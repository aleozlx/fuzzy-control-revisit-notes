{
 "cells": [
  {
   "cell_type": "markdown",
   "metadata": {},
   "source": [
    "# Fuzzy Logic Inference\n",
    "** textbook question 7.5 (page 143) as example **"
   ]
  },
  {
   "cell_type": "code",
   "execution_count": 1,
   "metadata": {
    "collapsed": true
   },
   "outputs": [],
   "source": [
    "%matplotlib inline\n",
    "from __future__ import print_function\n",
    "import numpy as np\n",
    "import matplotlib.pyplot as plt"
   ]
  },
  {
   "cell_type": "markdown",
   "metadata": {},
   "source": [
    "## Given"
   ]
  },
  {
   "cell_type": "code",
   "execution_count": 2,
   "metadata": {
    "collapsed": false
   },
   "outputs": [],
   "source": [
    "A1 = np.array([0.0, 1.0, 0.6])\n",
    "B = np.array([0.2, 0.8])"
   ]
  },
  {
   "cell_type": "markdown",
   "metadata": {},
   "source": [
    "## Rule \"If V is A1 then W is B\" translates into\n",
    "Using Eq7.6 of \"Correlation Product\" on page 130"
   ]
  },
  {
   "cell_type": "code",
   "execution_count": 3,
   "metadata": {
    "collapsed": false
   },
   "outputs": [
    {
     "name": "stdout",
     "output_type": "stream",
     "text": [
      "[[ 0.    0.  ]\n",
      " [ 0.2   0.8 ]\n",
      " [ 0.12  0.48]]\n"
     ]
    }
   ],
   "source": [
    "Rule = np.outer(A1, B) # same as just taking outer product\n",
    "print(Rule)"
   ]
  },
  {
   "cell_type": "markdown",
   "metadata": {},
   "source": [
    "** Another e.g. **\n",
    "If question was asking for \"Correlation Min\", instead, rule would've been translated into"
   ]
  },
  {
   "cell_type": "code",
   "execution_count": 4,
   "metadata": {
    "collapsed": false
   },
   "outputs": [
    {
     "data": {
      "text/plain": [
       "array([[ 0. ,  0. ],\n",
       "       [ 0.2,  0.8],\n",
       "       [ 0.2,  0.6]])"
      ]
     },
     "execution_count": 4,
     "metadata": {},
     "output_type": "execute_result"
    }
   ],
   "source": [
    "np.array([min(i,j) for i in A1 for j in B]).reshape(3,2) # kinda like outer product but with 'min' as operator"
   ]
  },
  {
   "cell_type": "markdown",
   "metadata": {},
   "source": [
    "**Side note** Surely there's a vectorized way of doing this:"
   ]
  },
  {
   "cell_type": "code",
   "execution_count": 5,
   "metadata": {
    "collapsed": false
   },
   "outputs": [
    {
     "data": {
      "text/plain": [
       "array([[ 0. ,  0. ],\n",
       "       [ 0.2,  0.8],\n",
       "       [ 0.2,  0.6]])"
      ]
     },
     "execution_count": 5,
     "metadata": {},
     "output_type": "execute_result"
    }
   ],
   "source": [
    "np.minimum(A1[...,np.newaxis], B[np.newaxis,...])"
   ]
  },
  {
   "cell_type": "markdown",
   "metadata": {},
   "source": [
    "**Side note** Not familiar with matlab, but I might do something like this:"
   ]
  },
  {
   "cell_type": "code",
   "execution_count": 6,
   "metadata": {
    "collapsed": false
   },
   "outputs": [
    {
     "data": {
      "text/plain": [
       "array([[ 0. ,  0. ],\n",
       "       [ 0.2,  0.8],\n",
       "       [ 0.2,  0.6]])"
      ]
     },
     "execution_count": 6,
     "metadata": {},
     "output_type": "execute_result"
    }
   ],
   "source": [
    "repmat = lambda M,m,n: np.tile(M,(m,n))\n",
    "_A1 = repmat(A1.reshape(3,1),1,2)\n",
    "_B = repmat(B.reshape(1,2),3,1)\n",
    "np.minimum(_A1, _B)"
   ]
  },
  {
   "cell_type": "markdown",
   "metadata": {},
   "source": [
    "** Another e.g. ** And if according to Lukasiewicz's implication, the rule would've become"
   ]
  },
  {
   "cell_type": "code",
   "execution_count": 7,
   "metadata": {
    "collapsed": false
   },
   "outputs": [
    {
     "data": {
      "text/plain": [
       "array([[ 1. ,  1. ],\n",
       "       [ 0.2,  0.8],\n",
       "       [ 0.6,  1. ]])"
      ]
     },
     "execution_count": 7,
     "metadata": {},
     "output_type": "execute_result"
    }
   ],
   "source": [
    "np.array([min(1.,1-i+j) for i in A1 for j in B]).reshape(3,2)"
   ]
  },
  {
   "cell_type": "markdown",
   "metadata": {},
   "source": [
    "## If \"V is A1\" was also a known fact, then we'd have\n",
    "Using Eq7.8 on page 131"
   ]
  },
  {
   "cell_type": "code",
   "execution_count": 8,
   "metadata": {
    "collapsed": false
   },
   "outputs": [
    {
     "name": "stdout",
     "output_type": "stream",
     "text": [
      "min: [[ 0.    0.  ]\n",
      " [ 0.2   0.8 ]\n",
      " [ 0.12  0.48]]\n",
      "sup: [ 0.2  0.8]\n"
     ]
    }
   ],
   "source": [
    "\"\"\" Conclusion = [sup(min(0,0) min(1,0.2) min(0.6,0.12)) sup(min(0,0) min(1,0.8) min(0.6,0.48))]\n",
    "    = [sup(0 0.2 0.12) sup(0 0.8 0.48)]\n",
    "    = [0.2 0.8]\n",
    "    = B\n",
    "\"\"\"\n",
    "\n",
    "print('min:',np.minimum(A1[...,np.newaxis],Rule)) # Taking elementwise minimum of A1 with each column in Rule\n",
    "print('sup:',np.max(np.minimum(A1[...,np.newaxis],Rule), axis=0)) # Taking supremum on each column"
   ]
  },
  {
   "cell_type": "markdown",
   "metadata": {},
   "source": [
    "Recall the value of B, and one could find that the conclusion is **exactly** B (due to fact is exactly A1)"
   ]
  },
  {
   "cell_type": "code",
   "execution_count": 9,
   "metadata": {
    "collapsed": false
   },
   "outputs": [
    {
     "data": {
      "text/plain": [
       "array([ 0.2,  0.8])"
      ]
     },
     "execution_count": 9,
     "metadata": {},
     "output_type": "execute_result"
    }
   ],
   "source": [
    "B"
   ]
  },
  {
   "cell_type": "markdown",
   "metadata": {},
   "source": [
    "So this whole calculation reads \"**If V is A1 then W is B** and **V is A1** as a matter of fact, so we obtain **W is B**\""
   ]
  },
  {
   "cell_type": "markdown",
   "metadata": {},
   "source": [
    "## But what if \"V is NOT A1\"\n",
    "Just take A1's complement instead:"
   ]
  },
  {
   "cell_type": "code",
   "execution_count": 10,
   "metadata": {
    "collapsed": false
   },
   "outputs": [
    {
     "data": {
      "text/plain": [
       "array([ 0.12,  0.4 ])"
      ]
     },
     "execution_count": 10,
     "metadata": {},
     "output_type": "execute_result"
    }
   ],
   "source": [
    "np.max(np.minimum((1-A1)[...,np.newaxis],Rule), axis=0)"
   ]
  },
  {
   "cell_type": "markdown",
   "metadata": {},
   "source": [
    "This concludes the revisit of question 7.5\n",
    "\n",
    "And the general framework of fuzzy logic inference includes the following steps (page 133 and 134):\n",
    "\n",
    "(see also [Fuzzy Inference Process](https://www.mathworks.com/help/fuzzy/fuzzy-inference-process.html))\n",
    "\n",
    "1. Cylindrical closure of antecedents (join together all conditions using cartesian product)\n",
    "2. Compute implication relation (question 7.5)\n",
    "3. Draw conclusions with compusitional rule of inference (question 7.5)\n",
    "4. Conclusion aggregation (question 7.2)\n",
    "5. Defuzzification\n",
    "\n",
    "Here's an example:"
   ]
  },
  {
   "cell_type": "markdown",
   "metadata": {},
   "source": [
    "# A fuzzy control vacuum cleaner"
   ]
  },
  {
   "cell_type": "code",
   "execution_count": 11,
   "metadata": {
    "collapsed": false
   },
   "outputs": [
    {
     "data": {
      "image/png": "[encoded data removed]",
      "text/plain": [
       "<matplotlib.figure.Figure at 0x10f07dad0>"
      ]
     },
     "metadata": {},
     "output_type": "display_data"
    }
   ],
   "source": [
    "# Input\n",
    "dirty_level = dict(DIRTY = np.array([.25, .75]),\n",
    "                   MEDIUM = np.array([.8, .2]),\n",
    "                   CLEAN = np.array([.95, .5]))\n",
    "\n",
    "battery_level = dict(HIGH = np.array([.1, .9]),\n",
    "                     LOW = np.array([.8, .2]))\n",
    "\n",
    "# Output\n",
    "mode = dict(CLEANING = np.array([0.0,0.0,1.0]),\n",
    "            STANDBY = np.array([0.0,1.0,0.0]),\n",
    "            CHARGING = np.array([1.0,0.0,0.0]))\n",
    "\n",
    "# Fuzzify a real value into a normal fuzzy number\n",
    "fuzzify = lambda x: np.array([1.0-x, x])\n",
    "\n",
    "# Cylindrical closure (just cartesian product of features)\n",
    "closure = lambda *x: np.concatenate(x)\n",
    "\n",
    "# Fuzzy inference formular\n",
    "conclusion = lambda rule, *features: np.max(np.minimum(closure(*features)[...,np.newaxis],rule), axis=0)\n",
    "\n",
    "# Rules\n",
    "whatever = np.empty(0) # Irrelevant feature placeholder\n",
    "new_rule = lambda dirty, battery, mode: np.outer(closure(dirty, battery), mode) # Correlation product\n",
    "\n",
    "Rules = [\n",
    "    [ new_rule(dirty_level['DIRTY'],battery_level['HIGH'],mode['CLEANING']),\n",
    "      new_rule(dirty_level['MEDIUM'],battery_level['HIGH'],mode['CLEANING'])],\n",
    "    [ new_rule(whatever, battery_level['LOW'], mode['CHARGING']) ],\n",
    "    [ new_rule(dirty_level['CLEAN'], whatever, mode['STANDBY']) ]\n",
    "]\n",
    "\n",
    "def fuzzy_control1(dirty, battery):\n",
    "    d = fuzzify(dirty)\n",
    "    b = fuzzify(battery)\n",
    "    \n",
    "    # Draw conclusions\n",
    "    conclusions = []\n",
    "    for rule in Rules[0]:\n",
    "        conclusions.append(conclusion(rule,d,b))\n",
    "    for rule in Rules[1]:\n",
    "        conclusions.append(conclusion(rule,b))\n",
    "    for rule in Rules[2]:\n",
    "        conclusions.append(conclusion(rule,d))\n",
    "        \n",
    "    # Max aggregation\n",
    "    aggregated_conclusion = np.max(conclusions, axis = 0)\n",
    "    \n",
    "    # Defuzzification\n",
    "    return np.argmax(aggregated_conclusion)\n",
    "\n",
    "def plot(fuzzy_control):\n",
    "    dirty = np.linspace(0., 1., 120) \n",
    "    battery = np.linspace(0., 1., 120) \n",
    "    X, Y = np.meshgrid(dirty, battery) \n",
    "    Z = np.vectorize(fuzzy_control)(X, Y)\n",
    "    plt.figure(figsize=(9,7))\n",
    "    plt.title('Vacuum cleaner mode: (0=CHARGIN 1=STANDBY 2=CLEANING)')\n",
    "    plt.xlabel('Dirty level')\n",
    "    plt.ylabel('Battery level')\n",
    "    plt.pcolormesh(X, Y, Z, cmap='RdYlGn')\n",
    "    plt.colorbar()\n",
    "    \n",
    "plot(fuzzy_control1)"
   ]
  },
  {
   "cell_type": "markdown",
   "metadata": {
    "collapsed": true
   },
   "source": [
    "# MA v. TSK\n",
    "\n",
    "![Sugeno FIS](http://www.cs.princeton.edu/courses/archive/fall07/cos436/HIDDEN/Knapp/gfuzzy/fuzzy009.gif)\n",
    "\n",
    "references:\n",
    "\n",
    "1. https://www.mathworks.com/help/fuzzy/what-is-sugeno-type-fuzzy-inference.html\n",
    "2. https://www.mathworks.com/help/fuzzy/comparison-of-sugeno-and-mamdani-systems.html\n",
    "3. http://www.cs.princeton.edu/courses/archive/fall07/cos436/HIDDEN/Knapp/fuzzy004.htm\n",
    "4. Textbook page 137\n",
    "\n",
    "**Advantages of the Sugeno Method (TSK)**\n",
    "\n",
    "+ It is computationally efficient.\n",
    "+ It works well with linear techniques (e.g., PID control).\n",
    "+ It works well with optimization and adaptive techniques.\n",
    "+ It has guaranteed continuity of the output surface.\n",
    "+ It is well suited to mathematical analysis.\n",
    "\n",
    "**Advantages of the Mamdani Method (MA)**\n",
    "\n",
    "+ It is intuitive.\n",
    "+ It has widespread acceptance.\n",
    "+ It is well suited to human input.\n"
   ]
  },
  {
   "cell_type": "markdown",
   "metadata": {},
   "source": [
    "# So how to turn MA into TSK logic?"
   ]
  },
  {
   "cell_type": "markdown",
   "metadata": {},
   "source": [
    "Now it's more suited to take membership values instead of fuzzy numbers as input.\n",
    "\n",
    "This is an example membership function, projecting fuzzified input onto linguistic values in the rule in order to see how well they match up."
   ]
  },
  {
   "cell_type": "code",
   "execution_count": 112,
   "metadata": {
    "collapsed": false
   },
   "outputs": [],
   "source": [
    "def membership_func(fuzzy):\n",
    "    \"\"\"Create a membership function based on some linguistic value\"\"\"\n",
    "    if np.array_equal(fuzzy, whatever): return lambda x: 1.0 # irrelevant feature\n",
    "    else: return lambda x: np.dot(fuzzy, fuzzify(x))"
   ]
  },
  {
   "cell_type": "markdown",
   "metadata": {},
   "source": [
    "## Define TSK rules"
   ]
  },
  {
   "cell_type": "code",
   "execution_count": 127,
   "metadata": {
    "collapsed": true
   },
   "outputs": [],
   "source": [
    "def sugeno_rule(dirty, battery, action_weights):\n",
    "    \"\"\"Takes linguistic values and actions weights\n",
    "    returns 2 functions: rule strength and action\"\"\"\n",
    "    \n",
    "    # Membership functions\n",
    "    m_dirty = membership_func(dirty)\n",
    "    m_battery = membership_func(battery)\n",
    "    \n",
    "    def strength(dirty_value, battery_value):\n",
    "        \"\"\"Takes crisp value and tells you strength of the rule\"\"\"\n",
    "        return np.min([m_dirty(dirty_value), m_battery(battery_value)])\n",
    "    \n",
    "    W, b = action_weights\n",
    "    action = lambda *crisp_features: np.dot(W,np.array(crisp_features))+b\n",
    "    return strength, action\n",
    "\n",
    "Rules2 = [\n",
    "    sugeno_rule(dirty_level['DIRTY'],battery_level['HIGH'], ([1,1],0)), # CLEANING\n",
    "    sugeno_rule(dirty_level['MEDIUM'],battery_level['HIGH'], ([1,1],0)), # CLEANING\n",
    "    sugeno_rule(whatever, battery_level['LOW'], ([0.0,-1],0)), # CHARGING\n",
    "    sugeno_rule(dirty_level['CLEAN'], whatever, ([-1,0.0],0)) # STANDBY\n",
    "]"
   ]
  },
  {
   "cell_type": "markdown",
   "metadata": {},
   "source": [
    "## Check rules' firing strength\n",
    "\n",
    "This only depends on antecedents."
   ]
  },
  {
   "cell_type": "code",
   "execution_count": 128,
   "metadata": {
    "collapsed": false
   },
   "outputs": [
    {
     "data": {
      "image/png": "[encoded data removed]",
      "text/plain": [
       "<matplotlib.figure.Figure at 0x110ac8450>"
      ]
     },
     "metadata": {},
     "output_type": "display_data"
    }
   ],
   "source": [
    "def argmax_strengths(dirty, battery):\n",
    "    strengths = np.array([strength(dirty, battery) for (strength, action) in Rules2])\n",
    "    return np.argmax(strengths)\n",
    "\n",
    "def plot_Rules2():\n",
    "    dirty = np.linspace(0., 1., 120) \n",
    "    battery = np.linspace(0., 1., 120) \n",
    "    X, Y = np.meshgrid(dirty, battery) \n",
    "    Z = np.vectorize(argmax_strengths)(X, Y)\n",
    "    plt.figure(figsize=(9,7))\n",
    "    plt.title('TSK rules firing (Color means which rule)')\n",
    "    plt.xlabel('Dirty level')\n",
    "    plt.ylabel('Battery level')\n",
    "    plt.pcolormesh(X, Y, Z)\n",
    "    plt.colorbar()\n",
    "\n",
    "plot_Rules2()"
   ]
  },
  {
   "cell_type": "markdown",
   "metadata": {},
   "source": [
    "Looks like Rules2[1] is redundant because its firing strength never became too significant. Let's remove it."
   ]
  },
  {
   "cell_type": "code",
   "execution_count": 129,
   "metadata": {
    "collapsed": false
   },
   "outputs": [],
   "source": [
    "Rules2 = [\n",
    "    sugeno_rule(dirty_level['DIRTY'],battery_level['HIGH'], ([1,1],0)), # CLEANING\n",
    "    sugeno_rule(whatever, battery_level['LOW'], ([0.0,-1],0)), # CHARGING\n",
    "    sugeno_rule(dirty_level['CLEAN'], whatever, ([-1,0.0],0)) # STANDBY\n",
    "]"
   ]
  },
  {
   "cell_type": "markdown",
   "metadata": {},
   "source": [
    "## TSK fuzzy control\n",
    "\n",
    "Actions are a linear combination of inputs in this example, but can be any function."
   ]
  },
  {
   "cell_type": "code",
   "execution_count": 130,
   "metadata": {
    "collapsed": false
   },
   "outputs": [
    {
     "data": {
      "image/png": "[encoded data removed]",
      "text/plain": [
       "<matplotlib.figure.Figure at 0x110a6bf90>"
      ]
     },
     "metadata": {},
     "output_type": "display_data"
    }
   ],
   "source": [
    "def fuzzy_control2(dirty, battery):\n",
    "    strengths = np.array([strength(dirty, battery) for (strength, action) in Rules2])\n",
    "    actions = np.array([action(dirty, battery) for (strength, action) in Rules2])\n",
    "    return np.dot(strengths, actions)/np.sum(strengths) # No need to defuzzify\n",
    "\n",
    "plot(fuzzy_control2)"
   ]
  },
  {
   "cell_type": "markdown",
   "metadata": {},
   "source": [
    "## Fine-tune rules"
   ]
  },
  {
   "cell_type": "code",
   "execution_count": 131,
   "metadata": {
    "collapsed": false
   },
   "outputs": [
    {
     "data": {
      "image/png": "[encoded data removed]",
      "text/plain": [
       "<matplotlib.figure.Figure at 0x11153f2d0>"
      ]
     },
     "metadata": {},
     "output_type": "display_data"
    }
   ],
   "source": [
    "Rules2 = [\n",
    "    sugeno_rule(dirty_level['DIRTY'],battery_level['HIGH'], ([1,1],0)), # CLEANING\n",
    "    sugeno_rule(whatever, battery_level['LOW'], ([0.0,-1],0)), # CHARGING\n",
    "    sugeno_rule(dirty_level['CLEAN'], whatever, ([-1,0.0],0)) # STANDBY\n",
    "]\n",
    "\n",
    "plot(fuzzy_control2)"
   ]
  },
  {
   "cell_type": "code",
   "execution_count": null,
   "metadata": {
    "collapsed": true
   },
   "outputs": [],
   "source": []
  }
 ],
 "metadata": {
  "kernelspec": {
   "display_name": "Python 2",
   "language": "python",
   "name": "python2"
  },
  "language_info": {
   "codemirror_mode": {
    "name": "ipython",
    "version": 2
   },
   "file_extension": ".py",
   "mimetype": "text/x-python",
   "name": "python",
   "nbconvert_exporter": "python",
   "pygments_lexer": "ipython2",
   "version": "2.7.13"
  }
 },
 "nbformat": 4,
 "nbformat_minor": 2
}
